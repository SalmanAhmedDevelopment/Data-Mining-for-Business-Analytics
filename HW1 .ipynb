{
 "cells": [
  {
   "cell_type": "code",
   "execution_count": 1,
   "id": "a8b8e726",
   "metadata": {},
   "outputs": [],
   "source": [
    "college <- read.csv(\"college.csv\")"
   ]
  },
  {
   "cell_type": "code",
   "execution_count": null,
   "id": "99a042ef",
   "metadata": {},
   "outputs": [],
   "source": [
    "fix(college)"
   ]
  },
  {
   "cell_type": "code",
   "execution_count": 3,
   "id": "61554027",
   "metadata": {},
   "outputs": [],
   "source": [
    "rownames(college)=college[,1]"
   ]
  },
  {
   "cell_type": "code",
   "execution_count": 4,
   "id": "2d67671a",
   "metadata": {},
   "outputs": [
    {
     "data": {
      "text/html": [
       "<table>\n",
       "<thead><tr><th></th><th scope=col>Private</th><th scope=col>Apps</th><th scope=col>Accept</th><th scope=col>Enroll</th><th scope=col>Top10perc</th></tr></thead>\n",
       "<tbody>\n",
       "\t<tr><th scope=row>Abilene Christian University</th><td>Yes </td><td>1660</td><td>1232</td><td>721 </td><td>23  </td></tr>\n",
       "\t<tr><th scope=row>Adelphi University</th><td>Yes </td><td>2186</td><td>1924</td><td>512 </td><td>16  </td></tr>\n",
       "\t<tr><th scope=row>Adrian College</th><td>Yes </td><td>1428</td><td>1097</td><td>336 </td><td>22  </td></tr>\n",
       "\t<tr><th scope=row>Agnes Scott College</th><td>Yes </td><td> 417</td><td> 349</td><td>137 </td><td>60  </td></tr>\n",
       "\t<tr><th scope=row>Alaska Pacific University</th><td>Yes </td><td> 193</td><td> 146</td><td> 55 </td><td>16  </td></tr>\n",
       "\t<tr><th scope=row>Albertson College</th><td>Yes </td><td> 587</td><td> 479</td><td>158 </td><td>38  </td></tr>\n",
       "</tbody>\n",
       "</table>\n"
      ],
      "text/latex": [
       "\\begin{tabular}{r|lllll}\n",
       "  & Private & Apps & Accept & Enroll & Top10perc\\\\\n",
       "\\hline\n",
       "\tAbilene Christian University & Yes  & 1660 & 1232 & 721  & 23  \\\\\n",
       "\tAdelphi University & Yes  & 2186 & 1924 & 512  & 16  \\\\\n",
       "\tAdrian College & Yes  & 1428 & 1097 & 336  & 22  \\\\\n",
       "\tAgnes Scott College & Yes  &  417 &  349 & 137  & 60  \\\\\n",
       "\tAlaska Pacific University & Yes  &  193 &  146 &  55  & 16  \\\\\n",
       "\tAlbertson College & Yes  &  587 &  479 & 158  & 38  \\\\\n",
       "\\end{tabular}\n"
      ],
      "text/markdown": [
       "\n",
       "| <!--/--> | Private | Apps | Accept | Enroll | Top10perc |\n",
       "|---|---|---|---|---|---|\n",
       "| Abilene Christian University | Yes  | 1660 | 1232 | 721  | 23   |\n",
       "| Adelphi University | Yes  | 2186 | 1924 | 512  | 16   |\n",
       "| Adrian College | Yes  | 1428 | 1097 | 336  | 22   |\n",
       "| Agnes Scott College | Yes  |  417 |  349 | 137  | 60   |\n",
       "| Alaska Pacific University | Yes  |  193 |  146 |  55  | 16   |\n",
       "| Albertson College | Yes  |  587 |  479 | 158  | 38   |\n",
       "\n"
      ],
      "text/plain": [
       "                             Private Apps Accept Enroll Top10perc\n",
       "Abilene Christian University Yes     1660 1232   721    23       \n",
       "Adelphi University           Yes     2186 1924   512    16       \n",
       "Adrian College               Yes     1428 1097   336    22       \n",
       "Agnes Scott College          Yes      417  349   137    60       \n",
       "Alaska Pacific University    Yes      193  146    55    16       \n",
       "Albertson College            Yes      587  479   158    38       "
      ]
     },
     "metadata": {},
     "output_type": "display_data"
    }
   ],
   "source": [
    "college = college[,-1]\n",
    "head(college[, 1:5])"
   ]
  },
  {
   "cell_type": "code",
   "execution_count": 5,
   "id": "1099944b",
   "metadata": {
    "scrolled": false
   },
   "outputs": [
    {
     "data": {
      "text/plain": [
       " Private        Apps           Accept          Enroll       Top10perc    \n",
       " No :212   Min.   :   81   Min.   :   72   Min.   :  35   Min.   : 1.00  \n",
       " Yes:565   1st Qu.:  776   1st Qu.:  604   1st Qu.: 242   1st Qu.:15.00  \n",
       "           Median : 1558   Median : 1110   Median : 434   Median :23.00  \n",
       "           Mean   : 3002   Mean   : 2019   Mean   : 780   Mean   :27.56  \n",
       "           3rd Qu.: 3624   3rd Qu.: 2424   3rd Qu.: 902   3rd Qu.:35.00  \n",
       "           Max.   :48094   Max.   :26330   Max.   :6392   Max.   :96.00  \n",
       "   Top25perc      F.Undergrad     P.Undergrad         Outstate    \n",
       " Min.   :  9.0   Min.   :  139   Min.   :    1.0   Min.   : 2340  \n",
       " 1st Qu.: 41.0   1st Qu.:  992   1st Qu.:   95.0   1st Qu.: 7320  \n",
       " Median : 54.0   Median : 1707   Median :  353.0   Median : 9990  \n",
       " Mean   : 55.8   Mean   : 3700   Mean   :  855.3   Mean   :10441  \n",
       " 3rd Qu.: 69.0   3rd Qu.: 4005   3rd Qu.:  967.0   3rd Qu.:12925  \n",
       " Max.   :100.0   Max.   :31643   Max.   :21836.0   Max.   :21700  \n",
       "   Room.Board       Books           Personal         PhD        \n",
       " Min.   :1780   Min.   :  96.0   Min.   : 250   Min.   :  8.00  \n",
       " 1st Qu.:3597   1st Qu.: 470.0   1st Qu.: 850   1st Qu.: 62.00  \n",
       " Median :4200   Median : 500.0   Median :1200   Median : 75.00  \n",
       " Mean   :4358   Mean   : 549.4   Mean   :1341   Mean   : 72.66  \n",
       " 3rd Qu.:5050   3rd Qu.: 600.0   3rd Qu.:1700   3rd Qu.: 85.00  \n",
       " Max.   :8124   Max.   :2340.0   Max.   :6800   Max.   :103.00  \n",
       "    Terminal       S.F.Ratio      perc.alumni        Expend     \n",
       " Min.   : 24.0   Min.   : 2.50   Min.   : 0.00   Min.   : 3186  \n",
       " 1st Qu.: 71.0   1st Qu.:11.50   1st Qu.:13.00   1st Qu.: 6751  \n",
       " Median : 82.0   Median :13.60   Median :21.00   Median : 8377  \n",
       " Mean   : 79.7   Mean   :14.09   Mean   :22.74   Mean   : 9660  \n",
       " 3rd Qu.: 92.0   3rd Qu.:16.50   3rd Qu.:31.00   3rd Qu.:10830  \n",
       " Max.   :100.0   Max.   :39.80   Max.   :64.00   Max.   :56233  \n",
       "   Grad.Rate     \n",
       " Min.   : 10.00  \n",
       " 1st Qu.: 53.00  \n",
       " Median : 65.00  \n",
       " Mean   : 65.46  \n",
       " 3rd Qu.: 78.00  \n",
       " Max.   :118.00  "
      ]
     },
     "metadata": {},
     "output_type": "display_data"
    }
   ],
   "source": [
    "summary(college)"
   ]
  },
  {
   "cell_type": "code",
   "execution_count": 6,
   "id": "b9396905",
   "metadata": {},
   "outputs": [
    {
     "data": {
      "image/png": "[encoded data removed]",
      "text/plain": [
       "plot without title"
      ]
     },
     "metadata": {},
     "output_type": "display_data"
    }
   ],
   "source": [
    "pairs(college[,1:10])"
   ]
  },
  {
   "cell_type": "code",
   "execution_count": 7,
   "id": "2f8a35d6",
   "metadata": {},
   "outputs": [
    {
     "data": {
      "text/html": [
       "<ol class=list-inline>\n",
       "\t<li>777</li>\n",
       "\t<li>18</li>\n",
       "</ol>\n"
      ],
      "text/latex": [
       "\\begin{enumerate*}\n",
       "\\item 777\n",
       "\\item 18\n",
       "\\end{enumerate*}\n"
      ],
      "text/markdown": [
       "1. 777\n",
       "2. 18\n",
       "\n",
       "\n"
      ],
      "text/plain": [
       "[1] 777  18"
      ]
     },
     "metadata": {},
     "output_type": "display_data"
    },
    {
     "data": {
      "text/html": [
       "<ol class=list-inline>\n",
       "\t<li>'Private'</li>\n",
       "\t<li>'Apps'</li>\n",
       "\t<li>'Accept'</li>\n",
       "\t<li>'Enroll'</li>\n",
       "\t<li>'Top10perc'</li>\n",
       "\t<li>'Top25perc'</li>\n",
       "\t<li>'F.Undergrad'</li>\n",
       "\t<li>'P.Undergrad'</li>\n",
       "\t<li>'Outstate'</li>\n",
       "\t<li>'Room.Board'</li>\n",
       "\t<li>'Books'</li>\n",
       "\t<li>'Personal'</li>\n",
       "\t<li>'PhD'</li>\n",
       "\t<li>'Terminal'</li>\n",
       "\t<li>'S.F.Ratio'</li>\n",
       "\t<li>'perc.alumni'</li>\n",
       "\t<li>'Expend'</li>\n",
       "\t<li>'Grad.Rate'</li>\n",
       "</ol>\n"
      ],
      "text/latex": [
       "\\begin{enumerate*}\n",
       "\\item 'Private'\n",
       "\\item 'Apps'\n",
       "\\item 'Accept'\n",
       "\\item 'Enroll'\n",
       "\\item 'Top10perc'\n",
       "\\item 'Top25perc'\n",
       "\\item 'F.Undergrad'\n",
       "\\item 'P.Undergrad'\n",
       "\\item 'Outstate'\n",
       "\\item 'Room.Board'\n",
       "\\item 'Books'\n",
       "\\item 'Personal'\n",
       "\\item 'PhD'\n",
       "\\item 'Terminal'\n",
       "\\item 'S.F.Ratio'\n",
       "\\item 'perc.alumni'\n",
       "\\item 'Expend'\n",
       "\\item 'Grad.Rate'\n",
       "\\end{enumerate*}\n"
      ],
      "text/markdown": [
       "1. 'Private'\n",
       "2. 'Apps'\n",
       "3. 'Accept'\n",
       "4. 'Enroll'\n",
       "5. 'Top10perc'\n",
       "6. 'Top25perc'\n",
       "7. 'F.Undergrad'\n",
       "8. 'P.Undergrad'\n",
       "9. 'Outstate'\n",
       "10. 'Room.Board'\n",
       "11. 'Books'\n",
       "12. 'Personal'\n",
       "13. 'PhD'\n",
       "14. 'Terminal'\n",
       "15. 'S.F.Ratio'\n",
       "16. 'perc.alumni'\n",
       "17. 'Expend'\n",
       "18. 'Grad.Rate'\n",
       "\n",
       "\n"
      ],
      "text/plain": [
       " [1] \"Private\"     \"Apps\"        \"Accept\"      \"Enroll\"      \"Top10perc\"  \n",
       " [6] \"Top25perc\"   \"F.Undergrad\" \"P.Undergrad\" \"Outstate\"    \"Room.Board\" \n",
       "[11] \"Books\"       \"Personal\"    \"PhD\"         \"Terminal\"    \"S.F.Ratio\"  \n",
       "[16] \"perc.alumni\" \"Expend\"      \"Grad.Rate\"  "
      ]
     },
     "metadata": {},
     "output_type": "display_data"
    }
   ],
   "source": [
    "college=na.omit(college)\n",
    "dim(college)\n",
    "names(college)"
   ]
  },
  {
   "cell_type": "code",
   "execution_count": 8,
   "id": "3f35e495",
   "metadata": {},
   "outputs": [],
   "source": [
    "attach(college)"
   ]
  },
  {
   "cell_type": "code",
   "execution_count": 9,
   "id": "305bc957",
   "metadata": {
    "scrolled": false
   },
   "outputs": [
    {
     "data": {
      "image/png": "[encoded data removed]",
      "text/plain": [
       "plot without title"
      ]
     },
     "metadata": {},
     "output_type": "display_data"
    }
   ],
   "source": [
    "plot(Private, Outstate, col =\"red\", varwidth =T, xlab=\"Private\", ylab =\"Outstate\")"
   ]
  },
  {
   "cell_type": "code",
   "execution_count": 10,
   "id": "e8a1a8b7",
   "metadata": {},
   "outputs": [],
   "source": [
    "Elite=rep(\"No\",nrow(college ))\n",
    "Elite[college$Top10perc >50]=\" Yes\"\n",
    "Elite=as.factor(Elite)\n",
    "college=data.frame(college , Elite)"
   ]
  },
  {
   "cell_type": "code",
   "execution_count": 11,
   "id": "6ab7e969",
   "metadata": {},
   "outputs": [
    {
     "data": {
      "text/html": [
       "<dl class=dl-horizontal>\n",
       "\t<dt> Yes</dt>\n",
       "\t\t<dd>78</dd>\n",
       "\t<dt>No</dt>\n",
       "\t\t<dd>699</dd>\n",
       "</dl>\n"
      ],
      "text/latex": [
       "\\begin{description*}\n",
       "\\item[ Yes] 78\n",
       "\\item[No] 699\n",
       "\\end{description*}\n"
      ],
      "text/markdown": [
       " Yes\n",
       ":   78No\n",
       ":   699\n",
       "\n"
      ],
      "text/plain": [
       " Yes   No \n",
       "  78  699 "
      ]
     },
     "metadata": {},
     "output_type": "display_data"
    }
   ],
   "source": [
    "summary(Elite)"
   ]
  },
  {
   "cell_type": "code",
   "execution_count": 12,
   "id": "51731d61",
   "metadata": {
    "scrolled": false
   },
   "outputs": [
    {
     "data": {
      "image/png": "[encoded data removed]",
      "text/plain": [
       "plot without title"
      ]
     },
     "metadata": {},
     "output_type": "display_data"
    }
   ],
   "source": [
    "plot(Elite, Outstate, col =\"red\", varwidth =T, xlab=\"Elite\", ylab =\"Outstate\")"
   ]
  },
  {
   "cell_type": "code",
   "execution_count": 13,
   "id": "7aa47bfb",
   "metadata": {
    "scrolled": false
   },
   "outputs": [
    {
     "data": {
      "image/png": "[encoded data removed]",
      "text/plain": [
       "Plot with title \"Histogram of Top10perc\""
      ]
     },
     "metadata": {},
     "output_type": "display_data"
    }
   ],
   "source": [
    "par(mfrow=c(2,2))\n",
    "    \n",
    "hist(Outstate) \n",
    "hist(Enroll) \n",
    "hist(Grad.Rate) \n",
    "hist(Top10perc)"
   ]
  },
  {
   "cell_type": "code",
   "execution_count": 14,
   "id": "cd93befa",
   "metadata": {},
   "outputs": [
    {
     "data": {
      "text/plain": [
       "   Min. 1st Qu.  Median    Mean 3rd Qu.    Max. \n",
       "  10.00   53.00   65.00   65.46   78.00  118.00 "
      ]
     },
     "metadata": {},
     "output_type": "display_data"
    }
   ],
   "source": [
    "summary(Grad.Rate)\n"
   ]
  },
  {
   "cell_type": "code",
   "execution_count": 15,
   "id": "b0007b02",
   "metadata": {},
   "outputs": [
    {
     "data": {
      "text/html": [
       "1"
      ],
      "text/latex": [
       "1"
      ],
      "text/markdown": [
       "1"
      ],
      "text/plain": [
       "[1] 1"
      ]
     },
     "metadata": {},
     "output_type": "display_data"
    }
   ],
   "source": [
    "nrow(college[Grad.Rate > 100, ])"
   ]
  },
  {
   "cell_type": "code",
   "execution_count": 16,
   "id": "66d04aff",
   "metadata": {},
   "outputs": [
    {
     "data": {
      "text/html": [
       "1"
      ],
      "text/latex": [
       "1"
      ],
      "text/markdown": [
       "1"
      ],
      "text/plain": [
       "[1] 1"
      ]
     },
     "metadata": {},
     "output_type": "display_data"
    }
   ],
   "source": [
    "over.grad <- college[Grad.Rate == 118, ]\n",
    "nrow(over.grad)"
   ]
  },
  {
   "cell_type": "code",
   "execution_count": 18,
   "id": "0289a4e7",
   "metadata": {},
   "outputs": [
    {
     "data": {
      "text/html": [
       "'Cazenovia College'"
      ],
      "text/latex": [
       "'Cazenovia College'"
      ],
      "text/markdown": [
       "'Cazenovia College'"
      ],
      "text/plain": [
       "[1] \"Cazenovia College\""
      ]
     },
     "metadata": {},
     "output_type": "display_data"
    }
   ],
   "source": [
    "rownames(over.grad)\n",
    "\n"
   ]
  }
 ],
 "metadata": {
  "kernelspec": {
   "display_name": "R",
   "language": "R",
   "name": "ir"
  },
  "language_info": {
   "codemirror_mode": "r",
   "file_extension": ".r",
   "mimetype": "text/x-r-source",
   "name": "R",
   "pygments_lexer": "r",
   "version": "3.6.1"
  }
 },
 "nbformat": 4,
 "nbformat_minor": 5
}
